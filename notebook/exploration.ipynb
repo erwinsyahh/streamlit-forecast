{
 "cells": [
  {
   "cell_type": "code",
   "execution_count": 1,
   "id": "d981d2f8",
   "metadata": {},
   "outputs": [
    {
     "name": "stderr",
     "output_type": "stream",
     "text": [
      "/home/erwinsyah/Projects/streamlit-forecast/.venv/lib/python3.10/site-packages/snowflake/snowpark/session.py:38: UserWarning: pkg_resources is deprecated as an API. See https://setuptools.pypa.io/en/latest/pkg_resources.html. The pkg_resources package is slated for removal as early as 2025-11-30. Refrain from using this package or pin to Setuptools<81.\n",
      "  import pkg_resources\n"
     ]
    }
   ],
   "source": [
    "from snowflake.snowpark import Session\n",
    "import pandas as pd\n",
    "import matplotlib.pyplot as plt\n",
    "import seaborn as sns\n",
    "import numpy as np\n",
    "import warnings\n",
    "\n",
    "pd.set_option('display.max_columns', None)\n",
    "pd.set_option('display.width', None)\n",
    "pd.option_context('display.float_format', '{:,.2f}'.format)\n",
    "\n",
    "warnings.filterwarnings(\"ignore\", category=UserWarning)\n"
   ]
  },
  {
   "cell_type": "code",
   "execution_count": 2,
   "metadata": {},
   "outputs": [
    {
     "name": "stdout",
     "output_type": "stream",
     "text": [
      "successfully created session: <snowflake.snowpark.session.Session: account=\"SHGIQBW-LM10865\", role=\"ACCOUNTADMIN\", database=\"POC_NOJORONO\", schema=\"ML_FORECAST\", warehouse=\"COMPUTE_POC_USE_CASE_4\">\n"
     ]
    }
   ],
   "source": [
    "\n",
    "session = Session.builder.config(\"connection_name\", \"poc_nojo\").create()\n",
    "print(f'successfully created session: {session}')"
   ]
  },
  {
   "cell_type": "code",
   "execution_count": 3,
   "id": "3307da48",
   "metadata": {},
   "outputs": [
    {
     "data": {
      "text/html": [
       "<div>\n",
       "<style scoped>\n",
       "    .dataframe tbody tr th:only-of-type {\n",
       "        vertical-align: middle;\n",
       "    }\n",
       "\n",
       "    .dataframe tbody tr th {\n",
       "        vertical-align: top;\n",
       "    }\n",
       "\n",
       "    .dataframe thead th {\n",
       "        text-align: right;\n",
       "    }\n",
       "</style>\n",
       "<table border=\"1\" class=\"dataframe\">\n",
       "  <thead>\n",
       "    <tr style=\"text-align: right;\">\n",
       "      <th></th>\n",
       "      <th>ORDER_TIMESTAMP</th>\n",
       "      <th>STORE_ID</th>\n",
       "      <th>PRODUCT_ID</th>\n",
       "      <th>FEATURE_1</th>\n",
       "      <th>FEATURE_2</th>\n",
       "      <th>FEATURE_3</th>\n",
       "      <th>FEATURE_4</th>\n",
       "    </tr>\n",
       "  </thead>\n",
       "  <tbody>\n",
       "    <tr>\n",
       "      <th>0</th>\n",
       "      <td>2025-06-17</td>\n",
       "      <td>S032</td>\n",
       "      <td>P077</td>\n",
       "      <td>231.828882</td>\n",
       "      <td>196.255542</td>\n",
       "      <td>201.278993</td>\n",
       "      <td>295.032421</td>\n",
       "    </tr>\n",
       "    <tr>\n",
       "      <th>1</th>\n",
       "      <td>2025-06-18</td>\n",
       "      <td>S032</td>\n",
       "      <td>P077</td>\n",
       "      <td>215.295727</td>\n",
       "      <td>149.346449</td>\n",
       "      <td>279.787079</td>\n",
       "      <td>117.642744</td>\n",
       "    </tr>\n",
       "    <tr>\n",
       "      <th>2</th>\n",
       "      <td>2025-06-19</td>\n",
       "      <td>S032</td>\n",
       "      <td>P077</td>\n",
       "      <td>277.667015</td>\n",
       "      <td>335.718651</td>\n",
       "      <td>231.336545</td>\n",
       "      <td>290.463080</td>\n",
       "    </tr>\n",
       "    <tr>\n",
       "      <th>3</th>\n",
       "      <td>2025-06-20</td>\n",
       "      <td>S032</td>\n",
       "      <td>P077</td>\n",
       "      <td>233.349452</td>\n",
       "      <td>204.805128</td>\n",
       "      <td>107.960623</td>\n",
       "      <td>113.952577</td>\n",
       "    </tr>\n",
       "    <tr>\n",
       "      <th>4</th>\n",
       "      <td>2025-06-21</td>\n",
       "      <td>S032</td>\n",
       "      <td>P077</td>\n",
       "      <td>339.274198</td>\n",
       "      <td>247.140914</td>\n",
       "      <td>203.778889</td>\n",
       "      <td>167.692485</td>\n",
       "    </tr>\n",
       "  </tbody>\n",
       "</table>\n",
       "</div>"
      ],
      "text/plain": [
       "  ORDER_TIMESTAMP STORE_ID PRODUCT_ID   FEATURE_1   FEATURE_2   FEATURE_3  \\\n",
       "0      2025-06-17     S032       P077  231.828882  196.255542  201.278993   \n",
       "1      2025-06-18     S032       P077  215.295727  149.346449  279.787079   \n",
       "2      2025-06-19     S032       P077  277.667015  335.718651  231.336545   \n",
       "3      2025-06-20     S032       P077  233.349452  204.805128  107.960623   \n",
       "4      2025-06-21     S032       P077  339.274198  247.140914  203.778889   \n",
       "\n",
       "    FEATURE_4  \n",
       "0  295.032421  \n",
       "1  117.642744  \n",
       "2  290.463080  \n",
       "3  113.952577  \n",
       "4  167.692485  "
      ]
     },
     "execution_count": 3,
     "metadata": {},
     "output_type": "execute_result"
    }
   ],
   "source": [
    "read_table = session.table(\"POC_NOJORONO.ML_FORECAST.LATEST_DATE\")\n",
    "df = read_table.to_pandas()\n",
    "df.head()"
   ]
  },
  {
   "cell_type": "code",
   "execution_count": 4,
   "id": "eb6cf57b",
   "metadata": {},
   "outputs": [
    {
     "name": "stdout",
     "output_type": "stream",
     "text": [
      "Session closed successfully.\n"
     ]
    }
   ],
   "source": [
    "session.close()\n",
    "print(\"Session closed successfully.\")"
   ]
  }
 ],
 "metadata": {
  "kernelspec": {
   "display_name": "streamlit-forecast",
   "language": "python",
   "name": "python3"
  },
  "language_info": {
   "codemirror_mode": {
    "name": "ipython",
    "version": 3
   },
   "file_extension": ".py",
   "mimetype": "text/x-python",
   "name": "python",
   "nbconvert_exporter": "python",
   "pygments_lexer": "ipython3",
   "version": "3.10.12"
  }
 },
 "nbformat": 4,
 "nbformat_minor": 5
}
